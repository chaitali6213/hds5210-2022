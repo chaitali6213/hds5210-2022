{
 "cells": [
  {
   "cell_type": "markdown",
   "metadata": {},
   "source": [
    "# HDS5210-2022 Fall Midterm\n",
    "\n",
    "In the midterm exercise, you're going to use all the programming and data management skills you've developed so far to build a pricing calculator that will calculate how much money should be reimbursed for the visits in a CSV file. To do this, you will need to get allowed amounts (aka rates) from a JSON file, apply some special rules, and then calculate various totals by hospital or by month.\n",
    "\n",
    "Each step of the midterm will build up to form your final solution. Along the way, I've provided plenty of test cases to make sure you're getting each step correct.\n",
    "\n",
    "All functions require docstrings with a description and at least one test case.\n",
    "\n",
    "The midterm is due Monday, October 24th at 11:59 PM CST.\n",
    "\n",
    "---"
   ]
  },
  {
   "cell_type": "markdown",
   "metadata": {},
   "source": [
    "## Step 1: Average Rate\n",
    "\n",
    "With the `/data/negotiated_rates.json` file as input for your first function, read all the `allowed_amount` attributes and calculate an average allowed amount over all rates in the file.\n",
    "\n",
    "Your function should be named **average_rate()**, take the file's name as it's input parameter, and return a float as the result.\n",
    "\n",
    "**ROUND YOUR ANSWER TO 2 DECIMAL PLACES**"
   ]
  },
  {
   "cell_type": "code",
   "execution_count": 1,
   "metadata": {},
   "outputs": [],
   "source": [
    "import json\n",
    "'''average_rate(file) -> float\n",
    "\n",
    "    >>> average_rate('/data/negotiated_rates.json')\n",
    "    38.67\n",
    "    '''\n",
    "def average_rate(file):\n",
    "    with open('/data/negotiated_rates.json') as jsonFile:\n",
    "        negotiated_rates = json.load(jsonFile)\n",
    "        total_allowed_amounts = 0\n",
    "        number_allowed_amounts = 0\n",
    "\n",
    "        for out_of_network in negotiated_rates[\"out_of_network\"]:\n",
    "            for allowed_amounts in out_of_network[\"allowed_amounts\"]:\n",
    "                for payments in allowed_amounts[\"payments\"]:\n",
    "                    amount = allowed_amounts[\"payments\"][\"allowed_amount\"]\n",
    "                    total_allowed_amounts += amount\n",
    "                    number_allowed_amounts += 1\n",
    "        total_allowed_amounts = round(total_allowed_amounts,2)\n",
    "        average_of_allowed_amount = total_allowed_amounts / number_allowed_amounts\n",
    "        average_of_allowed_amount = round(average_of_allowed_amount,2)\n",
    "        print(average_of_allowed_amount)\n",
    "    return average_of_allowed_amount"
   ]
  },
  {
   "cell_type": "code",
   "execution_count": 2,
   "metadata": {},
   "outputs": [
    {
     "name": "stdout",
     "output_type": "stream",
     "text": [
      "38.67\n"
     ]
    }
   ],
   "source": [
    "assert(average_rate('/data/negotiated_rates.json') == 38.67)"
   ]
  },
  {
   "cell_type": "code",
   "execution_count": null,
   "metadata": {},
   "outputs": [],
   "source": []
  },
  {
   "cell_type": "markdown",
   "metadata": {},
   "source": [
    "---\n",
    "\n",
    "## Step 2: Rate for a Billing Code / Service Code Combination\n",
    "\n",
    "For the next step, we need to be able to look up the allowed amount for any given billing code / service code combination.\n",
    "\n",
    "In this data, the billing code represents the service or procedure that was provided. The service code represents the type of site where the service was provided.\n",
    "\n",
    "Your function should be named **get_rate()** and take three parameters: the JSON file name, the billing code, and the service code. If your code can't find that combination in the file, it should return None."
   ]
  },
  {
   "cell_type": "code",
   "execution_count": 3,
   "metadata": {},
   "outputs": [],
   "source": [
    "import json\n",
    "\n",
    "def get_rate(file, billing_code, service_code):\n",
    "    with open('/data/negotiated_rates.json') as jsonFile:\n",
    "        negotiated_rates = json.load(jsonFile)\n",
    "        for out_of_network in negotiated_rates[\"out_of_network\"]:\n",
    "            allowed_amount = out_of_network['allowed_amounts']\n",
    "            bill_code = out_of_network['billing_code']\n",
    "            for code in allowed_amount:\n",
    "                ser_code = code['service_code']\n",
    "                if bill_code == billing_code and ser_code == service_code:\n",
    "                    #print(code['payments']['allowed_amount'])\n",
    "                    return code['payments']['allowed_amount']\n",
    "        return None\n",
    "                    \n",
    "\n",
    "    "
   ]
  },
  {
   "cell_type": "code",
   "execution_count": 4,
   "metadata": {},
   "outputs": [],
   "source": [
    "assert (get_rate('/data/negotiated_rates.json','G0283','11') == 8.78)\n",
    "assert (get_rate('/data/negotiated_rates.json','97140','11') == 20.03)\n",
    "assert (get_rate('/data/negotiated_rates.json','97110','12') == 26.62)"
   ]
  },
  {
   "cell_type": "code",
   "execution_count": null,
   "metadata": {},
   "outputs": [],
   "source": []
  },
  {
   "cell_type": "markdown",
   "metadata": {},
   "source": [
    "---\n",
    "\n",
    "## Part 3: Special Rules for Rates\n",
    "\n",
    "There are some special rules for adjusting rates depending on a patient's age and the day of week.  (These are made up. Not from the real world.) In the next part of the midterm, you'll need to create a function that applies these extra rules to a rate and return the adjusted value.\n",
    "\n",
    "1. If the day of week is Monday, charge only 75% of the allowed amount.\n",
    "2. If the patient's age is 65 or higher, charge only 50% of the allowed amount.\n",
    "3. If's both Monday and the patient's age is 65 or higher, charge only 50% of the allowed amount.\n",
    "4. If neither of these conditions are true, charge the whole amount.\n",
    "\n",
    "Your function should be named **get_adjusted_rate()** and take five parameters: file name, billing code, service code, patient age, and visit date.  Your function should return the adjusted rate (based on the rules above) or None if the rate couldn't be found in the file.\n",
    "\n",
    "Note that your function will take a date in the form `%Y-%m-%d` ([see datetime.strptime()](https://docs.python.org/3/library/datetime.html#datetime.datetime.strptime)) and will need to calculate the [day of week](https://docs.python.org/3/library/datetime.html#datetime.date.weekday).\n",
    "\n",
    "**ROUND YOUR ANSWER TO 2 DECIMAL PLACES**"
   ]
  },
  {
   "cell_type": "code",
   "execution_count": 5,
   "metadata": {},
   "outputs": [],
   "source": [
    "from datetime import datetime\n",
    "\n",
    "def get_adjusted_rate(file, billing_code, service_code, pat_age, visit_date):\n",
    "    with open('/data/negotiated_rates.json') as jsonFile:\n",
    "        negotiated_rates = json.load(jsonFile)\n",
    "        day = datetime.strptime(visit_date, \"%Y-%m-%d\")\n",
    "        weekday = day.strftime('%A')\n",
    "        #print(weekday)\n",
    "        for out_of_network in negotiated_rates[\"out_of_network\"]:\n",
    "            allowed_amount = out_of_network['allowed_amounts']\n",
    "            bill_code = out_of_network['billing_code']\n",
    "            for code in allowed_amount:\n",
    "                ser_code = code['service_code']\n",
    "                if bill_code == billing_code and ser_code == service_code:\n",
    "                    #print(code['payments']['allowed_amount'])\n",
    "                    amount = code['payments']['allowed_amount']\n",
    "                if weekday == 'Monday' and pat_age >= 65:\n",
    "                    return round(amount * 0.5, 2)\n",
    "                elif weekday == 'Monday':\n",
    "                    return round(amount * 0.75, 2)\n",
    "                elif pat_age >= 65:\n",
    "                    return round(amount * 0.5, 2)\n",
    "                else:\n",
    "                    return round(amount, 2)\n",
    "            #print(amount)\n",
    "            return round(amount, 2)"
   ]
  },
  {
   "cell_type": "code",
   "execution_count": 6,
   "metadata": {},
   "outputs": [
    {
     "data": {
      "text/plain": [
       "6.58"
      ]
     },
     "execution_count": 6,
     "metadata": {},
     "output_type": "execute_result"
    }
   ],
   "source": [
    "get_adjusted_rate('/data/negotiated_rates.json','G0283','11',22,'2022-01-03')"
   ]
  },
  {
   "cell_type": "code",
   "execution_count": 7,
   "metadata": {},
   "outputs": [],
   "source": [
    "assert (get_adjusted_rate('/data/negotiated_rates.json','G0283','11',22,'2022-01-07') == 8.78)\n",
    "assert (get_adjusted_rate('/data/negotiated_rates.json','G0283','11',22,'2022-01-03') == 6.58)\n",
    "assert (get_adjusted_rate('/data/negotiated_rates.json','G0283','11',76,'2022-01-03') == 4.39)\n",
    "assert (get_adjusted_rate('/data/negotiated_rates.json','G0283','11',76,'2022-01-08') == 4.39)"
   ]
  },
  {
   "cell_type": "code",
   "execution_count": null,
   "metadata": {},
   "outputs": [],
   "source": []
  },
  {
   "cell_type": "markdown",
   "metadata": {},
   "source": [
    "---\n",
    "\n",
    "## Step 4: Calculate total payments for a list of visits\n",
    "\n",
    "Last step, we're going to put your get_adjusted_rate() function to work on a list of visits from a few hospitals in the St. Louis region.\n",
    "\n",
    "Your last function, **summarize_reimbursement()** needs to read an encounter file and the negotiated rates file, compute an adjusted rate for each encounter (row) in the input file, and return two dictionaries of information:\n",
    "1. Total expected reimbursement by month\n",
    "2. Total expected reimbursement by hospital\n",
    "\n",
    "Your should be able to run your function as `by_month, by_hospital = summarize_reimbursement(visits, negotiated_rates)` and have the two answers below:\n",
    "\n",
    "**by_month**\n",
    "```json\n",
    "{\n",
    "    '2021-05': 192.38,\n",
    "    '2021-03': 378.72,\n",
    "    '2021-07': 277.67,\n",
    "    '2021-06': 236.53,\n",
    "    '2021-11': 229.7,\n",
    "    '2021-10': 234.52,\n",
    "    '2021-12': 297.87,\n",
    "    '2021-04': 337.7,\n",
    "    '2021-09': 160.4,\n",
    "    '2021-01': 111.91,\n",
    "    '2021-02': 158.55,\n",
    "    '2021-08': 152.28\n",
    "}\n",
    "```\n",
    "\n",
    "**by_hospital**\n",
    "```json\n",
    "{\n",
    "    'Missouri Baptist': 514.18,\n",
    "    'SSM DePaul': 460.02,\n",
    "    'SLU Hospital': 409.67,\n",
    "    'Barnes Jewish': 485.7,\n",
    "    'Mercy Springfield': 518.59,\n",
    "    'Mercy St. Louis': 380.07\n",
    "}\n",
    "```\n",
    "\n",
    "**Round your totals to 2 decimal places**\n",
    "\n",
    "**If rates are not found, just ignore them**"
   ]
  },
  {
   "cell_type": "code",
   "execution_count": 10,
   "metadata": {},
   "outputs": [
    {
     "ename": "SyntaxError",
     "evalue": "invalid syntax (<ipython-input-10-4a5a13e7b126>, line 22)",
     "output_type": "error",
     "traceback": [
      "\u001b[0;36m  File \u001b[0;32m\"<ipython-input-10-4a5a13e7b126>\"\u001b[0;36m, line \u001b[0;32m22\u001b[0m\n\u001b[0;31m    by_hospital[hospital]=round(by_hospital[hospital])+adjust_rate,2)\u001b[0m\n\u001b[0m                                                                    ^\u001b[0m\n\u001b[0;31mSyntaxError\u001b[0m\u001b[0;31m:\u001b[0m invalid syntax\n"
     ]
    }
   ],
   "source": [
    "import json\n",
    "import csv\n",
    "from datetime import datetime\n",
    "def  summarize_reimbursement(visit, file):\n",
    "    by_month = {}\n",
    "    by_hospital= {}\n",
    "    CSV=\"/data/visits.csv\"\n",
    "    with open(CSV) as f:\n",
    "        visits= csv.reader(f)\n",
    "        for line in visits:\n",
    "            if line[0]=='SYSTEM':\n",
    "                continue\n",
    "            hospital = line[1]\n",
    "            pat_age = line[3]\n",
    "            billing_code = line[4]\n",
    "            service_code = line[5]\n",
    "            visit_date = line[6]\n",
    "            adjust_rate = get_adjusted_rate(file,billing_code_service_code,int(pat_age),visit_date)\n",
    "            if adjust_rate is none:\n",
    "                continue \n",
    "            if hospital in by_hospital.keys():\n",
    "                by_hospital[hospital]=round(by_hospital[hospital])+adjust_rate,2)\n",
    "            else:\n",
    "                by_hospital[hospital]=adjust_rate\n",
    "                \n",
    "            visit_date= visit_date[:7]\n",
    "            if visit_date in by_month.keys():\n",
    "                by_month[visit_date]=round (by_month[visit_date] + adjust_rate,2)\n",
    "                \n",
    "            else:\n",
    "                by_month[visit_date]=adjust_rate\n",
    "                \n",
    "        return by_month, by_hospital"
   ]
  },
  {
   "cell_type": "code",
   "execution_count": null,
   "metadata": {},
   "outputs": [],
   "source": [
    "summarize_reimbursement('/data/visits.csv','/data/negotiated_rates.json')"
   ]
  },
  {
   "cell_type": "code",
   "execution_count": null,
   "metadata": {},
   "outputs": [],
   "source": [
    "assert (summarize_reimbursement('/data/visits.csv','/data/negotiated_rates.json')[0]['2021-07'] == 277.67)\n",
    "assert (summarize_reimbursement('/data/visits.csv','/data/negotiated_rates.json')[0]['2021-03'] == 378.72)\n",
    "assert (summarize_reimbursement('/data/visits.csv','/data/negotiated_rates.json')[1]['Mercy St. Louis'] == 380.07)\n",
    "assert (summarize_reimbursement('/data/visits.csv','/data/negotiated_rates.json')[1]['Mercy Springfield'] == 518.59)"
   ]
  },
  {
   "cell_type": "code",
   "execution_count": null,
   "metadata": {},
   "outputs": [],
   "source": []
  }
 ],
 "metadata": {
  "kernelspec": {
   "display_name": "Python 3",
   "language": "python",
   "name": "python3"
  },
  "language_info": {
   "codemirror_mode": {
    "name": "ipython",
    "version": 3
   },
   "file_extension": ".py",
   "mimetype": "text/x-python",
   "name": "python",
   "nbconvert_exporter": "python",
   "pygments_lexer": "ipython3",
   "version": "3.6.7"
  }
 },
 "nbformat": 4,
 "nbformat_minor": 4
}
